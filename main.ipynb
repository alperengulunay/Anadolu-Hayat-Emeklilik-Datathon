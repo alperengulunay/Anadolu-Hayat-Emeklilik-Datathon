{
 "cells": [
  {
   "cell_type": "code",
   "execution_count": 70,
   "id": "8db6adb0-1436-4c54-8abc-2da68bfd43e3",
   "metadata": {},
   "outputs": [],
   "source": [
    "import numpy as np\n",
    "import pandas as pd\n",
    "import matplotlib.pyplot as plt\n",
    "%matplotlib inline\n",
    "import seaborn as sns\n",
    "from sklearn.model_selection import train_test_split\n",
    "from sklearn.preprocessing import normalize, StandardScaler, MinMaxScaler\n",
    "from sklearn.utils.class_weight import compute_sample_weight\n",
    "import time\n",
    "import warnings\n",
    "import gc, sys\n",
    "import statsmodels.api as sm\n",
    "# warnings.filterwarnings('ignore')"
   ]
  },
  {
   "cell_type": "code",
   "execution_count": 224,
   "id": "454d137f-30a0-44b1-8d7f-45f7f348b31d",
   "metadata": {
    "scrolled": true
   },
   "outputs": [],
   "source": [
    "# read the input data\n",
    "raw_data = pd.read_csv('test.csv', low_memory=False)"
   ]
  },
  {
   "cell_type": "code",
   "execution_count": 242,
   "id": "5caa7104-ee7b-401d-945c-75f589c660d9",
   "metadata": {},
   "outputs": [
    {
     "name": "stdout",
     "output_type": "stream",
     "text": [
      "There are 195631 observations in the dataset.\n",
      "There are 96 variables in the dataset.\n"
     ]
    },
    {
     "data": {
      "text/html": [
       "<div>\n",
       "<style scoped>\n",
       "    .dataframe tbody tr th:only-of-type {\n",
       "        vertical-align: middle;\n",
       "    }\n",
       "\n",
       "    .dataframe tbody tr th {\n",
       "        vertical-align: top;\n",
       "    }\n",
       "\n",
       "    .dataframe thead th {\n",
       "        text-align: right;\n",
       "    }\n",
       "</style>\n",
       "<table border=\"1\" class=\"dataframe\">\n",
       "  <thead>\n",
       "    <tr style=\"text-align: right;\">\n",
       "      <th></th>\n",
       "      <th>MUSTERI_ID</th>\n",
       "      <th>FLAG</th>\n",
       "      <th>PP_CINSIYET</th>\n",
       "      <th>PP_YAS</th>\n",
       "      <th>PP_MESLEK</th>\n",
       "      <th>PP_MUSTERI_SEGMENTI</th>\n",
       "      <th>PP_UYRUK</th>\n",
       "      <th>IL</th>\n",
       "      <th>SORU_YATIRIM_KARAKTERI_CVP</th>\n",
       "      <th>SORU_YATIRIM_KARAKTERI_RG</th>\n",
       "      <th>...</th>\n",
       "      <th>HU11</th>\n",
       "      <th>HU12</th>\n",
       "      <th>HU13</th>\n",
       "      <th>HU14</th>\n",
       "      <th>HU15</th>\n",
       "      <th>HU16</th>\n",
       "      <th>HU17</th>\n",
       "      <th>HU18</th>\n",
       "      <th>HU19</th>\n",
       "      <th>AKTIF_ILK_POLICE_RG</th>\n",
       "    </tr>\n",
       "  </thead>\n",
       "  <tbody>\n",
       "    <tr>\n",
       "      <th>0</th>\n",
       "      <td>15b29e51dff893ac19bcbc96c96d1cda0307b4e0edafcd...</td>\n",
       "      <td>KASIM</td>\n",
       "      <td>2</td>\n",
       "      <td>467</td>\n",
       "      <td>Öğretmen</td>\n",
       "      <td>103</td>\n",
       "      <td>1</td>\n",
       "      <td>1.0</td>\n",
       "      <td>NaN</td>\n",
       "      <td>NaN</td>\n",
       "      <td>...</td>\n",
       "      <td>0</td>\n",
       "      <td>0</td>\n",
       "      <td>0</td>\n",
       "      <td>0</td>\n",
       "      <td>0</td>\n",
       "      <td>0</td>\n",
       "      <td>0</td>\n",
       "      <td>0</td>\n",
       "      <td>0</td>\n",
       "      <td>100</td>\n",
       "    </tr>\n",
       "    <tr>\n",
       "      <th>1</th>\n",
       "      <td>7532c2d4751858dd8e7eb3f26c61af568fd3b2a6aa2f32...</td>\n",
       "      <td>KASIM</td>\n",
       "      <td>1</td>\n",
       "      <td>658</td>\n",
       "      <td>Öğretmen</td>\n",
       "      <td>106</td>\n",
       "      <td>1</td>\n",
       "      <td>54.0</td>\n",
       "      <td>NaN</td>\n",
       "      <td>NaN</td>\n",
       "      <td>...</td>\n",
       "      <td>0</td>\n",
       "      <td>0</td>\n",
       "      <td>0</td>\n",
       "      <td>0</td>\n",
       "      <td>0</td>\n",
       "      <td>0</td>\n",
       "      <td>0</td>\n",
       "      <td>0</td>\n",
       "      <td>0</td>\n",
       "      <td>111</td>\n",
       "    </tr>\n",
       "    <tr>\n",
       "      <th>2</th>\n",
       "      <td>47498c1c6161aea484b0eed7997846919ca9287684aee4...</td>\n",
       "      <td>KASIM</td>\n",
       "      <td>1</td>\n",
       "      <td>634</td>\n",
       "      <td>Serbest Meslek</td>\n",
       "      <td>106</td>\n",
       "      <td>1</td>\n",
       "      <td>48.0</td>\n",
       "      <td>NaN</td>\n",
       "      <td>NaN</td>\n",
       "      <td>...</td>\n",
       "      <td>0</td>\n",
       "      <td>0</td>\n",
       "      <td>0</td>\n",
       "      <td>0</td>\n",
       "      <td>0</td>\n",
       "      <td>0</td>\n",
       "      <td>0</td>\n",
       "      <td>0</td>\n",
       "      <td>0</td>\n",
       "      <td>127</td>\n",
       "    </tr>\n",
       "    <tr>\n",
       "      <th>3</th>\n",
       "      <td>48fe7f96c7e04326f1669b4ae5bdc5ae030da6b8c26498...</td>\n",
       "      <td>KASIM</td>\n",
       "      <td>2</td>\n",
       "      <td>638</td>\n",
       "      <td>NaN</td>\n",
       "      <td>106</td>\n",
       "      <td>1</td>\n",
       "      <td>67.0</td>\n",
       "      <td>NaN</td>\n",
       "      <td>NaN</td>\n",
       "      <td>...</td>\n",
       "      <td>0</td>\n",
       "      <td>0</td>\n",
       "      <td>0</td>\n",
       "      <td>0</td>\n",
       "      <td>0</td>\n",
       "      <td>0</td>\n",
       "      <td>0</td>\n",
       "      <td>0</td>\n",
       "      <td>0</td>\n",
       "      <td>178</td>\n",
       "    </tr>\n",
       "    <tr>\n",
       "      <th>4</th>\n",
       "      <td>26dbe514ebfdb7b664760c07f94d0bf0b297528cd5a358...</td>\n",
       "      <td>KASIM</td>\n",
       "      <td>1</td>\n",
       "      <td>80</td>\n",
       "      <td>Öğrenci</td>\n",
       "      <td>106</td>\n",
       "      <td>1</td>\n",
       "      <td>34.0</td>\n",
       "      <td>NaN</td>\n",
       "      <td>NaN</td>\n",
       "      <td>...</td>\n",
       "      <td>0</td>\n",
       "      <td>0</td>\n",
       "      <td>0</td>\n",
       "      <td>0</td>\n",
       "      <td>0</td>\n",
       "      <td>0</td>\n",
       "      <td>0</td>\n",
       "      <td>0</td>\n",
       "      <td>0</td>\n",
       "      <td>3</td>\n",
       "    </tr>\n",
       "  </tbody>\n",
       "</table>\n",
       "<p>5 rows × 96 columns</p>\n",
       "</div>"
      ],
      "text/plain": [
       "                                          MUSTERI_ID   FLAG  PP_CINSIYET  \\\n",
       "0  15b29e51dff893ac19bcbc96c96d1cda0307b4e0edafcd...  KASIM            2   \n",
       "1  7532c2d4751858dd8e7eb3f26c61af568fd3b2a6aa2f32...  KASIM            1   \n",
       "2  47498c1c6161aea484b0eed7997846919ca9287684aee4...  KASIM            1   \n",
       "3  48fe7f96c7e04326f1669b4ae5bdc5ae030da6b8c26498...  KASIM            2   \n",
       "4  26dbe514ebfdb7b664760c07f94d0bf0b297528cd5a358...  KASIM            1   \n",
       "\n",
       "   PP_YAS       PP_MESLEK  PP_MUSTERI_SEGMENTI  PP_UYRUK    IL  \\\n",
       "0     467        Öğretmen                  103         1   1.0   \n",
       "1     658        Öğretmen                  106         1  54.0   \n",
       "2     634  Serbest Meslek                  106         1  48.0   \n",
       "3     638             NaN                  106         1  67.0   \n",
       "4      80         Öğrenci                  106         1  34.0   \n",
       "\n",
       "  SORU_YATIRIM_KARAKTERI_CVP  SORU_YATIRIM_KARAKTERI_RG  ... HU11  HU12 HU13  \\\n",
       "0                        NaN                        NaN  ...    0     0    0   \n",
       "1                        NaN                        NaN  ...    0     0    0   \n",
       "2                        NaN                        NaN  ...    0     0    0   \n",
       "3                        NaN                        NaN  ...    0     0    0   \n",
       "4                        NaN                        NaN  ...    0     0    0   \n",
       "\n",
       "   HU14 HU15  HU16  HU17  HU18  HU19  AKTIF_ILK_POLICE_RG  \n",
       "0     0    0     0     0     0     0                  100  \n",
       "1     0    0     0     0     0     0                  111  \n",
       "2     0    0     0     0     0     0                  127  \n",
       "3     0    0     0     0     0     0                  178  \n",
       "4     0    0     0     0     0     0                    3  \n",
       "\n",
       "[5 rows x 96 columns]"
      ]
     },
     "execution_count": 242,
     "metadata": {},
     "output_type": "execute_result"
    }
   ],
   "source": [
    "df = raw_data\n",
    "print(\"There are \" + str(len(df)) + \" observations in the dataset.\")\n",
    "print(\"There are \" + str(len(df.columns)) + \" variables in the dataset.\")\n",
    "nRow, nCol = df.shape\n",
    "\n",
    "# display first rows in the dataset\n",
    "df.head()"
   ]
  },
  {
   "cell_type": "code",
   "execution_count": 243,
   "id": "0faedbd0-28c4-4ec7-8726-330a5d85e6e1",
   "metadata": {
    "scrolled": true
   },
   "outputs": [
    {
     "name": "stdout",
     "output_type": "stream",
     "text": [
      "<class 'pandas.core.frame.DataFrame'>\n",
      "RangeIndex: 195631 entries, 0 to 195630\n",
      "Data columns (total 96 columns):\n",
      " #   Column                      Non-Null Count   Dtype  \n",
      "---  ------                      --------------   -----  \n",
      " 0   MUSTERI_ID                  195631 non-null  object \n",
      " 1   FLAG                        195631 non-null  object \n",
      " 2   PP_CINSIYET                 195631 non-null  int64  \n",
      " 3   PP_YAS                      195631 non-null  int64  \n",
      " 4   PP_MESLEK                   169192 non-null  object \n",
      " 5   PP_MUSTERI_SEGMENTI         195631 non-null  int64  \n",
      " 6   PP_UYRUK                    195631 non-null  int64  \n",
      " 7   IL                          195630 non-null  float64\n",
      " 8   SORU_YATIRIM_KARAKTERI_CVP  27387 non-null   object \n",
      " 9   SORU_YATIRIM_KARAKTERI_RG   27387 non-null   float64\n",
      " 10  SORU_MEDENI_HAL_CVP         195631 non-null  object \n",
      " 11  SORU_MEDENI_HAL_RG          195315 non-null  float64\n",
      " 12  SORU_EGITIM_CVP             168547 non-null  object \n",
      " 13  SORU_EGITIM_RG              168547 non-null  float64\n",
      " 14  SORU_GELIR_CVP              115932 non-null  object \n",
      " 15  SORU_GELIR_RG               115932 non-null  float64\n",
      " 16  SORU_COCUK_SAYISI_CVP       82096 non-null   float64\n",
      " 17  SORU_COCUK_SAYISI_RG        82096 non-null   float64\n",
      " 18  BES_AYRILMA_TALEP_ADET      195631 non-null  int64  \n",
      " 19  ODEMEME_TALEP_ADET          195631 non-null  int64  \n",
      " 20  HAYAT_AYRILMA_TALEP_ADET    195631 non-null  int64  \n",
      " 21  BILGI_TALEP_ADET            195631 non-null  int64  \n",
      " 22  VADE_TUTAR_0                195631 non-null  int64  \n",
      " 23  ODEME_TUTAR_0               195631 non-null  int64  \n",
      " 24  VADE_TUTAR_1                195631 non-null  int64  \n",
      " 25  ODEME_TUTAR_1               195631 non-null  int64  \n",
      " 26  VADE_TUTAR_2                195631 non-null  int64  \n",
      " 27  ODEME_TUTAR_2               195631 non-null  int64  \n",
      " 28  VADE_TUTAR_3                195631 non-null  int64  \n",
      " 29  ODEME_TUTAR_3               195631 non-null  int64  \n",
      " 30  VADE_TUTAR_4                195631 non-null  int64  \n",
      " 31  ODEME_TUTAR_4               195631 non-null  int64  \n",
      " 32  VADE_TUTAR_5                195631 non-null  int64  \n",
      " 33  ODEME_TUTAR_5               195631 non-null  int64  \n",
      " 34  VADE_TUTAR_6                195631 non-null  int64  \n",
      " 35  ODEME_TUTAR_6               195631 non-null  int64  \n",
      " 36  VADE_TUTAR_7                195631 non-null  int64  \n",
      " 37  ODEME_TUTAR_7               195631 non-null  int64  \n",
      " 38  VADE_TUTAR_8                195631 non-null  int64  \n",
      " 39  ODEME_TUTAR_8               195631 non-null  int64  \n",
      " 40  VADE_TUTAR_9                195631 non-null  int64  \n",
      " 41  ODEME_TUTAR_9               195631 non-null  int64  \n",
      " 42  VADE_TUTAR_10               195631 non-null  int64  \n",
      " 43  ODEME_TUTAR_10              195631 non-null  int64  \n",
      " 44  VADE_TUTAR_11               195631 non-null  int64  \n",
      " 45  ODEME_TUTAR_11              195631 non-null  int64  \n",
      " 46  SON_AY_KATKI_MIKTARI        328 non-null     float64\n",
      " 47  SON_AY_KATKI_ADET           328 non-null     float64\n",
      " 48  SON_CEYREK_KATKI_MIKTARI    1919 non-null    float64\n",
      " 49  SON_CEYREK_KATKI_ADET       1919 non-null    float64\n",
      " 50  SON_SENE_KATKI_MIKTARI      3746 non-null    float64\n",
      " 51  SON_SENE_KATKI_ADET         3746 non-null    float64\n",
      " 52  ANAPARA                     195631 non-null  int64  \n",
      " 53  GETIRI                      195631 non-null  int64  \n",
      " 54  BU01                        195631 non-null  int64  \n",
      " 55  BU02                        195631 non-null  int64  \n",
      " 56  BU03                        195631 non-null  int64  \n",
      " 57  BU04                        195631 non-null  int64  \n",
      " 58  BU05                        195631 non-null  int64  \n",
      " 59  BU06                        195631 non-null  int64  \n",
      " 60  BU07                        195631 non-null  int64  \n",
      " 61  BU08                        195631 non-null  int64  \n",
      " 62  BU09                        195631 non-null  int64  \n",
      " 63  BU10                        195631 non-null  int64  \n",
      " 64  BU11                        195631 non-null  int64  \n",
      " 65  BU12                        195631 non-null  int64  \n",
      " 66  BU13                        195631 non-null  int64  \n",
      " 67  BU14                        195631 non-null  int64  \n",
      " 68  BU15                        195631 non-null  int64  \n",
      " 69  BU16                        195631 non-null  int64  \n",
      " 70  BU17                        195631 non-null  int64  \n",
      " 71  BU18                        195631 non-null  int64  \n",
      " 72  BU19                        195631 non-null  int64  \n",
      " 73  BU20                        195631 non-null  int64  \n",
      " 74  BU21                        195631 non-null  int64  \n",
      " 75  BU22                        195631 non-null  int64  \n",
      " 76  BU23                        195631 non-null  int64  \n",
      " 77  BU24                        195631 non-null  int64  \n",
      " 78  HU01                        195631 non-null  int64  \n",
      " 79  HU02                        195631 non-null  int64  \n",
      " 80  HU03                        195631 non-null  int64  \n",
      " 81  HU04                        195631 non-null  int64  \n",
      " 82  HU05                        195631 non-null  int64  \n",
      " 83  HU06                        195631 non-null  int64  \n",
      " 84  HU07                        195631 non-null  int64  \n",
      " 85  HU10                        195631 non-null  int64  \n",
      " 86  HU11                        195631 non-null  int64  \n",
      " 87  HU12                        195631 non-null  int64  \n",
      " 88  HU13                        195631 non-null  int64  \n",
      " 89  HU14                        195631 non-null  int64  \n",
      " 90  HU15                        195631 non-null  int64  \n",
      " 91  HU16                        195631 non-null  int64  \n",
      " 92  HU17                        195631 non-null  int64  \n",
      " 93  HU18                        195631 non-null  int64  \n",
      " 94  HU19                        195631 non-null  int64  \n",
      " 95  AKTIF_ILK_POLICE_RG         195631 non-null  int64  \n",
      "dtypes: float64(13), int64(76), object(7)\n",
      "memory usage: 143.3+ MB\n"
     ]
    }
   ],
   "source": [
    "df.info()"
   ]
  },
  {
   "cell_type": "code",
   "execution_count": 244,
   "id": "ef38fa55-0b2b-4cc1-b8d5-adf15fb60356",
   "metadata": {},
   "outputs": [],
   "source": [
    "columns_with_missing_values = df.columns[df.isna().sum() != 0]\n",
    "df_with_missing_values = df[columns_with_missing_values]\n",
    "isna_df = df_with_missing_values.isna().sum()"
   ]
  },
  {
   "cell_type": "code",
   "execution_count": 245,
   "id": "9763f67f-6451-4ca4-a4b8-72b77e6b0767",
   "metadata": {},
   "outputs": [
    {
     "data": {
      "text/plain": [
       "array([1.35147293e-01, 5.11166431e-06, 8.60006850e-01, 8.60006850e-01,\n",
       "       1.61528592e-03, 1.38444316e-01, 1.38444316e-01, 4.07394534e-01,\n",
       "       4.07394534e-01, 5.80352807e-01, 5.80352807e-01, 9.98323374e-01,\n",
       "       9.98323374e-01, 9.90190716e-01, 9.90190716e-01, 9.80851706e-01,\n",
       "       9.80851706e-01])"
      ]
     },
     "execution_count": 245,
     "metadata": {},
     "output_type": "execute_result"
    }
   ],
   "source": [
    "(isna_df.values / nRow)"
   ]
  },
  {
   "cell_type": "code",
   "execution_count": 246,
   "id": "cef4d65f-1176-4e16-99dc-cc7c3bc53643",
   "metadata": {},
   "outputs": [],
   "source": [
    "# df = df[df['SORU_MEDENI_HAL_CVP'].isna() == False]\n",
    "df.loc[df['SORU_MEDENI_HAL_CVP'].isna() == True, 'SORU_MEDENI_HAL_CVP'] = 'Single'"
   ]
  },
  {
   "cell_type": "code",
   "execution_count": 247,
   "id": "a28e0853-f87c-4310-82cc-b88e439f5d1a",
   "metadata": {
    "scrolled": true
   },
   "outputs": [],
   "source": [
    "df = df.drop(['SON_AY_KATKI_MIKTARI'], axis=1)\n",
    "df = df.drop(['SON_AY_KATKI_ADET'], axis=1)\n",
    "df = df.drop(['SON_CEYREK_KATKI_MIKTARI'], axis=1)\n",
    "df = df.drop(['SON_CEYREK_KATKI_ADET'], axis=1)"
   ]
  },
  {
   "cell_type": "code",
   "execution_count": 231,
   "id": "819073f4-8fe8-4696-874c-15697bffbca2",
   "metadata": {},
   "outputs": [],
   "source": [
    "# kaldırılacak\n",
    "columns_with_no_missing_values = df.columns[df.isna().sum() == 0]\n",
    "df = df[columns_with_no_missing_values]"
   ]
  },
  {
   "cell_type": "code",
   "execution_count": 232,
   "id": "496faba7-e478-438b-9e21-6ca08d7b03a5",
   "metadata": {
    "scrolled": true
   },
   "outputs": [],
   "source": [
    "# vis_df = df['PP_MESLEK'].value_counts()\n",
    "\n",
    "# fig = plt.figure(figsize=(15, 5))\n",
    "# ax = sns.barplot(\n",
    "#     x=vis_df.index[:10],\n",
    "#     y=vis_df.values[:10],\n",
    "#     color='cornflowerblue',\n",
    "#     edgecolor='black'\n",
    "# )\n",
    "# fig.suptitle(' - ', fontsize=15)\n",
    "# sns.despine()\n",
    "# plt.show()"
   ]
  },
  {
   "cell_type": "code",
   "execution_count": 233,
   "id": "8409dae1-89ce-4dd9-bc11-9e7b03e3d963",
   "metadata": {
    "scrolled": true
   },
   "outputs": [],
   "source": [
    "# df[df['SON_SENE_KATKI_ADET'].isna()].SON_SENE_KATKI_ADET"
   ]
  },
  {
   "cell_type": "code",
   "execution_count": 248,
   "id": "f4bde8db-e96d-4051-b18e-c7f74a893cef",
   "metadata": {},
   "outputs": [],
   "source": [
    "df = df.drop(['MUSTERI_ID'], axis=1)"
   ]
  },
  {
   "cell_type": "code",
   "execution_count": null,
   "id": "1a7dc705-3b98-405a-bc11-855e5776a4dd",
   "metadata": {},
   "outputs": [],
   "source": [
    "df.LABEL.unique()"
   ]
  },
  {
   "cell_type": "code",
   "execution_count": 249,
   "id": "d7453375-0f9d-4e2a-b0bf-565ea731ca1a",
   "metadata": {},
   "outputs": [],
   "source": [
    "cat_dtype = pd.CategoricalDtype(categories=['MAYIS', 'HAZIRAN', 'TEMMUZ','AGUSTOS','EYLUL', 'EKIM'], ordered=True)\n",
    "df['FLAG'] = df['FLAG'].astype(cat_dtype)"
   ]
  },
  {
   "cell_type": "code",
   "execution_count": 250,
   "id": "bb0c1a72-15fb-4660-9818-98fb16e60c91",
   "metadata": {
    "scrolled": true
   },
   "outputs": [],
   "source": [
    "cat_dtype = pd.CategoricalDtype(categories=[1, 2], ordered=False)\n",
    "df['PP_CINSIYET'] = df['PP_CINSIYET'].astype(cat_dtype)"
   ]
  },
  {
   "cell_type": "code",
   "execution_count": 251,
   "id": "a570337b-1967-4e65-9103-dcf90a05240b",
   "metadata": {},
   "outputs": [],
   "source": [
    "cat_dtype = pd.CategoricalDtype(categories=[105, 102, 104, 106, 103, 101], ordered=False)\n",
    "df['PP_MUSTERI_SEGMENTI'] = df['PP_MUSTERI_SEGMENTI'].astype(cat_dtype)"
   ]
  },
  {
   "cell_type": "code",
   "execution_count": 252,
   "id": "4e50ff77-6235-47ed-9c72-d9f4496699c1",
   "metadata": {},
   "outputs": [],
   "source": [
    "cat_dtype = pd.CategoricalDtype(categories=[1, 2, 3], ordered=False)\n",
    "df['PP_UYRUK'] = df['PP_UYRUK'].astype(cat_dtype)"
   ]
  },
  {
   "cell_type": "code",
   "execution_count": 253,
   "id": "34d38d30-7f21-4f1a-8abe-0cbf10dcd276",
   "metadata": {
    "scrolled": true
   },
   "outputs": [],
   "source": [
    "city_counts = df['IL'].value_counts()\n",
    "big_cities = city_counts[city_counts > 50_000].index\n",
    "mid_cities = city_counts[(50_000 > city_counts) & (city_counts > 10_000)].index\n",
    "small_cities = city_counts[10_000 > city_counts].index\n",
    "\n",
    "df.loc[df['IL'].isin(big_cities), 'BUYUK_SEHIR'] = 0\n",
    "df.loc[df['IL'].isin(mid_cities), 'BUYUK_SEHIR'] = 1\n",
    "df.loc[df['IL'].isin(small_cities), 'BUYUK_SEHIR'] = 2"
   ]
  },
  {
   "cell_type": "code",
   "execution_count": 254,
   "id": "cbb53792-d941-4ef6-bcfb-7d1b34a3d0b2",
   "metadata": {},
   "outputs": [],
   "source": [
    "df = df.drop(['IL'], axis=1)"
   ]
  },
  {
   "cell_type": "code",
   "execution_count": 255,
   "id": "c007f15d-7a17-4020-a48a-92ee93b63be0",
   "metadata": {},
   "outputs": [],
   "source": [
    "cat_dtype = pd.CategoricalDtype(categories=['Single', 'Married', 'Divorced', 'Widowed', 'Marriage Annulled',\n",
    "       'Other', 'Marriage Cancelled'], ordered=False)\n",
    "df['SORU_MEDENI_HAL_CVP'] = df['SORU_MEDENI_HAL_CVP'].astype(cat_dtype)"
   ]
  },
  {
   "cell_type": "code",
   "execution_count": 256,
   "id": "ee776053-53b6-45fa-b6e0-4d8efd147691",
   "metadata": {},
   "outputs": [
    {
     "data": {
      "text/plain": [
       "12"
      ]
     },
     "execution_count": 256,
     "metadata": {},
     "output_type": "execute_result"
    }
   ],
   "source": [
    "(df['SORU_MEDENI_HAL_RG'] > 250).sum()"
   ]
  },
  {
   "cell_type": "code",
   "execution_count": 257,
   "id": "5bc9b8a2-71d6-4607-a5a9-5f70eeaad551",
   "metadata": {},
   "outputs": [],
   "source": [
    "df.loc[df['SORU_MEDENI_HAL_RG'] < 250, 'SORU_MEDENI_HAL_RG'] = 100"
   ]
  },
  {
   "cell_type": "code",
   "execution_count": 175,
   "id": "ead75b41-c1fd-402e-a4ac-2f6c93e26dc2",
   "metadata": {},
   "outputs": [
    {
     "data": {
      "image/png": "[encoded data removed]",
      "text/plain": [
       "<Figure size 640x480 with 1 Axes>"
      ]
     },
     "metadata": {},
     "output_type": "display_data"
    }
   ],
   "source": [
    "df['SORU_MEDENI_HAL_RG'].plot(kind='density')\n",
    "plt.xlabel('Değerler')\n",
    "plt.title('Sayısal Değişken Dağılımı')\n",
    "plt.show()"
   ]
  },
  {
   "cell_type": "code",
   "execution_count": 258,
   "id": "99b80627-2d5c-4460-bc2a-587c10649cfc",
   "metadata": {
    "scrolled": true
   },
   "outputs": [
    {
     "data": {
      "text/plain": [
       "Index(['FLAG', 'PP_CINSIYET', 'PP_YAS', 'PP_MESLEK', 'PP_MUSTERI_SEGMENTI',\n",
       "       'PP_UYRUK', 'SORU_YATIRIM_KARAKTERI_CVP', 'SORU_YATIRIM_KARAKTERI_RG',\n",
       "       'SORU_MEDENI_HAL_CVP', 'SORU_MEDENI_HAL_RG', 'SORU_EGITIM_CVP',\n",
       "       'SORU_EGITIM_RG', 'SORU_GELIR_CVP', 'SORU_GELIR_RG',\n",
       "       'SORU_COCUK_SAYISI_CVP', 'SORU_COCUK_SAYISI_RG',\n",
       "       'BES_AYRILMA_TALEP_ADET', 'ODEMEME_TALEP_ADET',\n",
       "       'HAYAT_AYRILMA_TALEP_ADET', 'BILGI_TALEP_ADET', 'VADE_TUTAR_0',\n",
       "       'ODEME_TUTAR_0', 'VADE_TUTAR_1', 'ODEME_TUTAR_1', 'VADE_TUTAR_2',\n",
       "       'ODEME_TUTAR_2', 'VADE_TUTAR_3', 'ODEME_TUTAR_3', 'VADE_TUTAR_4',\n",
       "       'ODEME_TUTAR_4', 'VADE_TUTAR_5', 'ODEME_TUTAR_5', 'VADE_TUTAR_6',\n",
       "       'ODEME_TUTAR_6', 'VADE_TUTAR_7', 'ODEME_TUTAR_7', 'VADE_TUTAR_8',\n",
       "       'ODEME_TUTAR_8', 'VADE_TUTAR_9', 'ODEME_TUTAR_9', 'VADE_TUTAR_10',\n",
       "       'ODEME_TUTAR_10', 'VADE_TUTAR_11', 'ODEME_TUTAR_11',\n",
       "       'SON_SENE_KATKI_MIKTARI', 'SON_SENE_KATKI_ADET', 'ANAPARA', 'GETIRI',\n",
       "       'BU01', 'BU02', 'BU03', 'BU04', 'BU05', 'BU06', 'BU07', 'BU08', 'BU09',\n",
       "       'BU10', 'BU11', 'BU12', 'BU13', 'BU14', 'BU15', 'BU16', 'BU17', 'BU18',\n",
       "       'BU19', 'BU20', 'BU21', 'BU22', 'BU23', 'BU24', 'HU01', 'HU02', 'HU03',\n",
       "       'HU04', 'HU05', 'HU06', 'HU07', 'HU10', 'HU11', 'HU12', 'HU13', 'HU14',\n",
       "       'HU15', 'HU16', 'HU17', 'HU18', 'HU19', 'AKTIF_ILK_POLICE_RG',\n",
       "       'BUYUK_SEHIR'],\n",
       "      dtype='object')"
      ]
     },
     "execution_count": 258,
     "metadata": {},
     "output_type": "execute_result"
    }
   ],
   "source": [
    "df.columns"
   ]
  },
  {
   "cell_type": "code",
   "execution_count": 122,
   "id": "f280e0cd-1cf0-4d91-b54f-aeb60f046923",
   "metadata": {},
   "outputs": [
    {
     "name": "stdout",
     "output_type": "stream",
     "text": [
      "X.shape= (850897, 80) y.shape= (850897,)\n"
     ]
    }
   ],
   "source": [
    "X = df.drop(columns=[\"LABEL\"])\n",
    "y = df[\"LABEL\"]\n",
    "print('X.shape=', X.shape, 'y.shape=', y.shape)"
   ]
  },
  {
   "cell_type": "code",
   "execution_count": 123,
   "id": "d79aef56-cb0d-4b5c-9117-baaa65a20b3c",
   "metadata": {},
   "outputs": [
    {
     "name": "stdout",
     "output_type": "stream",
     "text": [
      "X_train.shape= (680717, 80) Y_train.shape= (680717,)\n",
      "X_test.shape= (170180, 80) Y_test.shape= (170180,)\n"
     ]
    }
   ],
   "source": [
    "X_train, X_test, y_train, y_test = train_test_split(X, y, test_size=.2, random_state=42)\n",
    "print('X_train.shape=', X_train.shape, 'Y_train.shape=', y_train.shape)\n",
    "print('X_test.shape=', X_test.shape, 'Y_test.shape=', y_test.shape)"
   ]
  },
  {
   "cell_type": "code",
   "execution_count": 120,
   "id": "b07a2a4e-4a77-4bd8-a4a2-b4f8b5ce1d6b",
   "metadata": {},
   "outputs": [],
   "source": [
    "from sklearn.preprocessing import LabelEncoder\n",
    "\n",
    "# LabelEncoder kullanarak kategorik verileri dönüştürme\n",
    "label_encoder = LabelEncoder()\n",
    "df.loc[:, 'FLAG'] = label_encoder.fit_transform(df['FLAG'])\n",
    "df.loc[:, 'SORU_MEDENI_HAL_CVP'] = label_encoder.fit_transform(df['SORU_MEDENI_HAL_CVP'])"
   ]
  },
  {
   "cell_type": "code",
   "execution_count": 124,
   "id": "2e4526c3-eea3-40f6-8cdc-97375f80edae",
   "metadata": {},
   "outputs": [
    {
     "name": "stdout",
     "output_type": "stream",
     "text": [
      "[Scikit-Learn] Training time (s): 143.16789\n"
     ]
    }
   ],
   "source": [
    "from sklearn.ensemble import RandomForestClassifier\n",
    "\n",
    "# Rastgele Orman Sınıflandırıcı modelini tanımla\n",
    "sklearn_rf = RandomForestClassifier(n_estimators=100, max_depth=32, random_state=35)\n",
    "\n",
    "# Eğitim zamanını ölç\n",
    "t0 = time.time()\n",
    "sklearn_rf.fit(X_train, y_train)\n",
    "sklearn_time = time.time() - t0\n",
    "print(\"[Scikit-Learn] Training time (s): {0:.5f}\".format(sklearn_time))"
   ]
  },
  {
   "cell_type": "code",
   "execution_count": 134,
   "id": "4265053c-bd0a-437a-83be-1fa9b5355b39",
   "metadata": {},
   "outputs": [
    {
     "name": "stdout",
     "output_type": "stream",
     "text": [
      "[Scikit-Learn] f1 score : 0.969\n"
     ]
    }
   ],
   "source": [
    "from sklearn.metrics import f1_score\n",
    "\n",
    "sklearn_pred = sklearn_rf.predict(X_test)\n",
    "\n",
    "# evaluate mean squared error on the test dataset\n",
    "sklearn_mse = f1_score(y_test, sklearn_pred, average='weighted')\n",
    "print('[Scikit-Learn] f1 score : {0:.3f}'.format(sklearn_mse))"
   ]
  },
  {
   "cell_type": "code",
   "execution_count": 182,
   "id": "c42b748b-fa0b-4be3-a58f-1c069d1dc955",
   "metadata": {},
   "outputs": [
    {
     "name": "stdout",
     "output_type": "stream",
     "text": [
      "[Scikit-Learn] Training time (s): 188.50445\n"
     ]
    }
   ],
   "source": [
    "from sklearn.ensemble import RandomForestClassifier\n",
    "\n",
    "# Rastgele Orman Sınıflandırıcı modelini tanımla\n",
    "final_model = RandomForestClassifier(n_estimators=100, max_depth=32, random_state=35)\n",
    "\n",
    "# Eğitim zamanını ölç\n",
    "t0 = time.time()\n",
    "final_model.fit(X, y)\n",
    "sklearn_time = time.time() - t0\n",
    "print(\"[Scikit-Learn] Training time (s): {0:.5f}\".format(sklearn_time))"
   ]
  },
  {
   "cell_type": "code",
   "execution_count": 184,
   "id": "f8658ee0-f476-4528-a3c8-042b31b5c887",
   "metadata": {},
   "outputs": [
    {
     "data": {
      "text/html": [
       "<style>#sk-container-id-1 {\n",
       "  /* Definition of color scheme common for light and dark mode */\n",
       "  --sklearn-color-text: black;\n",
       "  --sklearn-color-line: gray;\n",
       "  /* Definition of color scheme for unfitted estimators */\n",
       "  --sklearn-color-unfitted-level-0: #fff5e6;\n",
       "  --sklearn-color-unfitted-level-1: #f6e4d2;\n",
       "  --sklearn-color-unfitted-level-2: #ffe0b3;\n",
       "  --sklearn-color-unfitted-level-3: chocolate;\n",
       "  /* Definition of color scheme for fitted estimators */\n",
       "  --sklearn-color-fitted-level-0: #f0f8ff;\n",
       "  --sklearn-color-fitted-level-1: #d4ebff;\n",
       "  --sklearn-color-fitted-level-2: #b3dbfd;\n",
       "  --sklearn-color-fitted-level-3: cornflowerblue;\n",
       "\n",
       "  /* Specific color for light theme */\n",
       "  --sklearn-color-text-on-default-background: var(--sg-text-color, var(--theme-code-foreground, var(--jp-content-font-color1, black)));\n",
       "  --sklearn-color-background: var(--sg-background-color, var(--theme-background, var(--jp-layout-color0, white)));\n",
       "  --sklearn-color-border-box: var(--sg-text-color, var(--theme-code-foreground, var(--jp-content-font-color1, black)));\n",
       "  --sklearn-color-icon: #696969;\n",
       "\n",
       "  @media (prefers-color-scheme: dark) {\n",
       "    /* Redefinition of color scheme for dark theme */\n",
       "    --sklearn-color-text-on-default-background: var(--sg-text-color, var(--theme-code-foreground, var(--jp-content-font-color1, white)));\n",
       "    --sklearn-color-background: var(--sg-background-color, var(--theme-background, var(--jp-layout-color0, #111)));\n",
       "    --sklearn-color-border-box: var(--sg-text-color, var(--theme-code-foreground, var(--jp-content-font-color1, white)));\n",
       "    --sklearn-color-icon: #878787;\n",
       "  }\n",
       "}\n",
       "\n",
       "#sk-container-id-1 {\n",
       "  color: var(--sklearn-color-text);\n",
       "}\n",
       "\n",
       "#sk-container-id-1 pre {\n",
       "  padding: 0;\n",
       "}\n",
       "\n",
       "#sk-container-id-1 input.sk-hidden--visually {\n",
       "  border: 0;\n",
       "  clip: rect(1px 1px 1px 1px);\n",
       "  clip: rect(1px, 1px, 1px, 1px);\n",
       "  height: 1px;\n",
       "  margin: -1px;\n",
       "  overflow: hidden;\n",
       "  padding: 0;\n",
       "  position: absolute;\n",
       "  width: 1px;\n",
       "}\n",
       "\n",
       "#sk-container-id-1 div.sk-dashed-wrapped {\n",
       "  border: 1px dashed var(--sklearn-color-line);\n",
       "  margin: 0 0.4em 0.5em 0.4em;\n",
       "  box-sizing: border-box;\n",
       "  padding-bottom: 0.4em;\n",
       "  background-color: var(--sklearn-color-background);\n",
       "}\n",
       "\n",
       "#sk-container-id-1 div.sk-container {\n",
       "  /* jupyter's `normalize.less` sets `[hidden] { display: none; }`\n",
       "     but bootstrap.min.css set `[hidden] { display: none !important; }`\n",
       "     so we also need the `!important` here to be able to override the\n",
       "     default hidden behavior on the sphinx rendered scikit-learn.org.\n",
       "     See: https://github.com/scikit-learn/scikit-learn/issues/21755 */\n",
       "  display: inline-block !important;\n",
       "  position: relative;\n",
       "}\n",
       "\n",
       "#sk-container-id-1 div.sk-text-repr-fallback {\n",
       "  display: none;\n",
       "}\n",
       "\n",
       "div.sk-parallel-item,\n",
       "div.sk-serial,\n",
       "div.sk-item {\n",
       "  /* draw centered vertical line to link estimators */\n",
       "  background-image: linear-gradient(var(--sklearn-color-text-on-default-background), var(--sklearn-color-text-on-default-background));\n",
       "  background-size: 2px 100%;\n",
       "  background-repeat: no-repeat;\n",
       "  background-position: center center;\n",
       "}\n",
       "\n",
       "/* Parallel-specific style estimator block */\n",
       "\n",
       "#sk-container-id-1 div.sk-parallel-item::after {\n",
       "  content: \"\";\n",
       "  width: 100%;\n",
       "  border-bottom: 2px solid var(--sklearn-color-text-on-default-background);\n",
       "  flex-grow: 1;\n",
       "}\n",
       "\n",
       "#sk-container-id-1 div.sk-parallel {\n",
       "  display: flex;\n",
       "  align-items: stretch;\n",
       "  justify-content: center;\n",
       "  background-color: var(--sklearn-color-background);\n",
       "  position: relative;\n",
       "}\n",
       "\n",
       "#sk-container-id-1 div.sk-parallel-item {\n",
       "  display: flex;\n",
       "  flex-direction: column;\n",
       "}\n",
       "\n",
       "#sk-container-id-1 div.sk-parallel-item:first-child::after {\n",
       "  align-self: flex-end;\n",
       "  width: 50%;\n",
       "}\n",
       "\n",
       "#sk-container-id-1 div.sk-parallel-item:last-child::after {\n",
       "  align-self: flex-start;\n",
       "  width: 50%;\n",
       "}\n",
       "\n",
       "#sk-container-id-1 div.sk-parallel-item:only-child::after {\n",
       "  width: 0;\n",
       "}\n",
       "\n",
       "/* Serial-specific style estimator block */\n",
       "\n",
       "#sk-container-id-1 div.sk-serial {\n",
       "  display: flex;\n",
       "  flex-direction: column;\n",
       "  align-items: center;\n",
       "  background-color: var(--sklearn-color-background);\n",
       "  padding-right: 1em;\n",
       "  padding-left: 1em;\n",
       "}\n",
       "\n",
       "\n",
       "/* Toggleable style: style used for estimator/Pipeline/ColumnTransformer box that is\n",
       "clickable and can be expanded/collapsed.\n",
       "- Pipeline and ColumnTransformer use this feature and define the default style\n",
       "- Estimators will overwrite some part of the style using the `sk-estimator` class\n",
       "*/\n",
       "\n",
       "/* Pipeline and ColumnTransformer style (default) */\n",
       "\n",
       "#sk-container-id-1 div.sk-toggleable {\n",
       "  /* Default theme specific background. It is overwritten whether we have a\n",
       "  specific estimator or a Pipeline/ColumnTransformer */\n",
       "  background-color: var(--sklearn-color-background);\n",
       "}\n",
       "\n",
       "/* Toggleable label */\n",
       "#sk-container-id-1 label.sk-toggleable__label {\n",
       "  cursor: pointer;\n",
       "  display: block;\n",
       "  width: 100%;\n",
       "  margin-bottom: 0;\n",
       "  padding: 0.5em;\n",
       "  box-sizing: border-box;\n",
       "  text-align: center;\n",
       "}\n",
       "\n",
       "#sk-container-id-1 label.sk-toggleable__label-arrow:before {\n",
       "  /* Arrow on the left of the label */\n",
       "  content: \"▸\";\n",
       "  float: left;\n",
       "  margin-right: 0.25em;\n",
       "  color: var(--sklearn-color-icon);\n",
       "}\n",
       "\n",
       "#sk-container-id-1 label.sk-toggleable__label-arrow:hover:before {\n",
       "  color: var(--sklearn-color-text);\n",
       "}\n",
       "\n",
       "/* Toggleable content - dropdown */\n",
       "\n",
       "#sk-container-id-1 div.sk-toggleable__content {\n",
       "  max-height: 0;\n",
       "  max-width: 0;\n",
       "  overflow: hidden;\n",
       "  text-align: left;\n",
       "  /* unfitted */\n",
       "  background-color: var(--sklearn-color-unfitted-level-0);\n",
       "}\n",
       "\n",
       "#sk-container-id-1 div.sk-toggleable__content.fitted {\n",
       "  /* fitted */\n",
       "  background-color: var(--sklearn-color-fitted-level-0);\n",
       "}\n",
       "\n",
       "#sk-container-id-1 div.sk-toggleable__content pre {\n",
       "  margin: 0.2em;\n",
       "  border-radius: 0.25em;\n",
       "  color: var(--sklearn-color-text);\n",
       "  /* unfitted */\n",
       "  background-color: var(--sklearn-color-unfitted-level-0);\n",
       "}\n",
       "\n",
       "#sk-container-id-1 div.sk-toggleable__content.fitted pre {\n",
       "  /* unfitted */\n",
       "  background-color: var(--sklearn-color-fitted-level-0);\n",
       "}\n",
       "\n",
       "#sk-container-id-1 input.sk-toggleable__control:checked~div.sk-toggleable__content {\n",
       "  /* Expand drop-down */\n",
       "  max-height: 200px;\n",
       "  max-width: 100%;\n",
       "  overflow: auto;\n",
       "}\n",
       "\n",
       "#sk-container-id-1 input.sk-toggleable__control:checked~label.sk-toggleable__label-arrow:before {\n",
       "  content: \"▾\";\n",
       "}\n",
       "\n",
       "/* Pipeline/ColumnTransformer-specific style */\n",
       "\n",
       "#sk-container-id-1 div.sk-label input.sk-toggleable__control:checked~label.sk-toggleable__label {\n",
       "  color: var(--sklearn-color-text);\n",
       "  background-color: var(--sklearn-color-unfitted-level-2);\n",
       "}\n",
       "\n",
       "#sk-container-id-1 div.sk-label.fitted input.sk-toggleable__control:checked~label.sk-toggleable__label {\n",
       "  background-color: var(--sklearn-color-fitted-level-2);\n",
       "}\n",
       "\n",
       "/* Estimator-specific style */\n",
       "\n",
       "/* Colorize estimator box */\n",
       "#sk-container-id-1 div.sk-estimator input.sk-toggleable__control:checked~label.sk-toggleable__label {\n",
       "  /* unfitted */\n",
       "  background-color: var(--sklearn-color-unfitted-level-2);\n",
       "}\n",
       "\n",
       "#sk-container-id-1 div.sk-estimator.fitted input.sk-toggleable__control:checked~label.sk-toggleable__label {\n",
       "  /* fitted */\n",
       "  background-color: var(--sklearn-color-fitted-level-2);\n",
       "}\n",
       "\n",
       "#sk-container-id-1 div.sk-label label.sk-toggleable__label,\n",
       "#sk-container-id-1 div.sk-label label {\n",
       "  /* The background is the default theme color */\n",
       "  color: var(--sklearn-color-text-on-default-background);\n",
       "}\n",
       "\n",
       "/* On hover, darken the color of the background */\n",
       "#sk-container-id-1 div.sk-label:hover label.sk-toggleable__label {\n",
       "  color: var(--sklearn-color-text);\n",
       "  background-color: var(--sklearn-color-unfitted-level-2);\n",
       "}\n",
       "\n",
       "/* Label box, darken color on hover, fitted */\n",
       "#sk-container-id-1 div.sk-label.fitted:hover label.sk-toggleable__label.fitted {\n",
       "  color: var(--sklearn-color-text);\n",
       "  background-color: var(--sklearn-color-fitted-level-2);\n",
       "}\n",
       "\n",
       "/* Estimator label */\n",
       "\n",
       "#sk-container-id-1 div.sk-label label {\n",
       "  font-family: monospace;\n",
       "  font-weight: bold;\n",
       "  display: inline-block;\n",
       "  line-height: 1.2em;\n",
       "}\n",
       "\n",
       "#sk-container-id-1 div.sk-label-container {\n",
       "  text-align: center;\n",
       "}\n",
       "\n",
       "/* Estimator-specific */\n",
       "#sk-container-id-1 div.sk-estimator {\n",
       "  font-family: monospace;\n",
       "  border: 1px dotted var(--sklearn-color-border-box);\n",
       "  border-radius: 0.25em;\n",
       "  box-sizing: border-box;\n",
       "  margin-bottom: 0.5em;\n",
       "  /* unfitted */\n",
       "  background-color: var(--sklearn-color-unfitted-level-0);\n",
       "}\n",
       "\n",
       "#sk-container-id-1 div.sk-estimator.fitted {\n",
       "  /* fitted */\n",
       "  background-color: var(--sklearn-color-fitted-level-0);\n",
       "}\n",
       "\n",
       "/* on hover */\n",
       "#sk-container-id-1 div.sk-estimator:hover {\n",
       "  /* unfitted */\n",
       "  background-color: var(--sklearn-color-unfitted-level-2);\n",
       "}\n",
       "\n",
       "#sk-container-id-1 div.sk-estimator.fitted:hover {\n",
       "  /* fitted */\n",
       "  background-color: var(--sklearn-color-fitted-level-2);\n",
       "}\n",
       "\n",
       "/* Specification for estimator info (e.g. \"i\" and \"?\") */\n",
       "\n",
       "/* Common style for \"i\" and \"?\" */\n",
       "\n",
       ".sk-estimator-doc-link,\n",
       "a:link.sk-estimator-doc-link,\n",
       "a:visited.sk-estimator-doc-link {\n",
       "  float: right;\n",
       "  font-size: smaller;\n",
       "  line-height: 1em;\n",
       "  font-family: monospace;\n",
       "  background-color: var(--sklearn-color-background);\n",
       "  border-radius: 1em;\n",
       "  height: 1em;\n",
       "  width: 1em;\n",
       "  text-decoration: none !important;\n",
       "  margin-left: 1ex;\n",
       "  /* unfitted */\n",
       "  border: var(--sklearn-color-unfitted-level-1) 1pt solid;\n",
       "  color: var(--sklearn-color-unfitted-level-1);\n",
       "}\n",
       "\n",
       ".sk-estimator-doc-link.fitted,\n",
       "a:link.sk-estimator-doc-link.fitted,\n",
       "a:visited.sk-estimator-doc-link.fitted {\n",
       "  /* fitted */\n",
       "  border: var(--sklearn-color-fitted-level-1) 1pt solid;\n",
       "  color: var(--sklearn-color-fitted-level-1);\n",
       "}\n",
       "\n",
       "/* On hover */\n",
       "div.sk-estimator:hover .sk-estimator-doc-link:hover,\n",
       ".sk-estimator-doc-link:hover,\n",
       "div.sk-label-container:hover .sk-estimator-doc-link:hover,\n",
       ".sk-estimator-doc-link:hover {\n",
       "  /* unfitted */\n",
       "  background-color: var(--sklearn-color-unfitted-level-3);\n",
       "  color: var(--sklearn-color-background);\n",
       "  text-decoration: none;\n",
       "}\n",
       "\n",
       "div.sk-estimator.fitted:hover .sk-estimator-doc-link.fitted:hover,\n",
       ".sk-estimator-doc-link.fitted:hover,\n",
       "div.sk-label-container:hover .sk-estimator-doc-link.fitted:hover,\n",
       ".sk-estimator-doc-link.fitted:hover {\n",
       "  /* fitted */\n",
       "  background-color: var(--sklearn-color-fitted-level-3);\n",
       "  color: var(--sklearn-color-background);\n",
       "  text-decoration: none;\n",
       "}\n",
       "\n",
       "/* Span, style for the box shown on hovering the info icon */\n",
       ".sk-estimator-doc-link span {\n",
       "  display: none;\n",
       "  z-index: 9999;\n",
       "  position: relative;\n",
       "  font-weight: normal;\n",
       "  right: .2ex;\n",
       "  padding: .5ex;\n",
       "  margin: .5ex;\n",
       "  width: min-content;\n",
       "  min-width: 20ex;\n",
       "  max-width: 50ex;\n",
       "  color: var(--sklearn-color-text);\n",
       "  box-shadow: 2pt 2pt 4pt #999;\n",
       "  /* unfitted */\n",
       "  background: var(--sklearn-color-unfitted-level-0);\n",
       "  border: .5pt solid var(--sklearn-color-unfitted-level-3);\n",
       "}\n",
       "\n",
       ".sk-estimator-doc-link.fitted span {\n",
       "  /* fitted */\n",
       "  background: var(--sklearn-color-fitted-level-0);\n",
       "  border: var(--sklearn-color-fitted-level-3);\n",
       "}\n",
       "\n",
       ".sk-estimator-doc-link:hover span {\n",
       "  display: block;\n",
       "}\n",
       "\n",
       "/* \"?\"-specific style due to the `<a>` HTML tag */\n",
       "\n",
       "#sk-container-id-1 a.estimator_doc_link {\n",
       "  float: right;\n",
       "  font-size: 1rem;\n",
       "  line-height: 1em;\n",
       "  font-family: monospace;\n",
       "  background-color: var(--sklearn-color-background);\n",
       "  border-radius: 1rem;\n",
       "  height: 1rem;\n",
       "  width: 1rem;\n",
       "  text-decoration: none;\n",
       "  /* unfitted */\n",
       "  color: var(--sklearn-color-unfitted-level-1);\n",
       "  border: var(--sklearn-color-unfitted-level-1) 1pt solid;\n",
       "}\n",
       "\n",
       "#sk-container-id-1 a.estimator_doc_link.fitted {\n",
       "  /* fitted */\n",
       "  border: var(--sklearn-color-fitted-level-1) 1pt solid;\n",
       "  color: var(--sklearn-color-fitted-level-1);\n",
       "}\n",
       "\n",
       "/* On hover */\n",
       "#sk-container-id-1 a.estimator_doc_link:hover {\n",
       "  /* unfitted */\n",
       "  background-color: var(--sklearn-color-unfitted-level-3);\n",
       "  color: var(--sklearn-color-background);\n",
       "  text-decoration: none;\n",
       "}\n",
       "\n",
       "#sk-container-id-1 a.estimator_doc_link.fitted:hover {\n",
       "  /* fitted */\n",
       "  background-color: var(--sklearn-color-fitted-level-3);\n",
       "}\n",
       "</style><div id=\"sk-container-id-1\" class=\"sk-top-container\"><div class=\"sk-text-repr-fallback\"><pre>RandomForestClassifier(max_depth=32, random_state=35)</pre><b>In a Jupyter environment, please rerun this cell to show the HTML representation or trust the notebook. <br />On GitHub, the HTML representation is unable to render, please try loading this page with nbviewer.org.</b></div><div class=\"sk-container\" hidden><div class=\"sk-item\"><div class=\"sk-estimator fitted sk-toggleable\"><input class=\"sk-toggleable__control sk-hidden--visually\" id=\"sk-estimator-id-1\" type=\"checkbox\" checked><label for=\"sk-estimator-id-1\" class=\"sk-toggleable__label fitted sk-toggleable__label-arrow fitted\">&nbsp;&nbsp;RandomForestClassifier<a class=\"sk-estimator-doc-link fitted\" rel=\"noreferrer\" target=\"_blank\" href=\"https://scikit-learn.org/1.4/modules/generated/sklearn.ensemble.RandomForestClassifier.html\">?<span>Documentation for RandomForestClassifier</span></a><span class=\"sk-estimator-doc-link fitted\">i<span>Fitted</span></span></label><div class=\"sk-toggleable__content fitted\"><pre>RandomForestClassifier(max_depth=32, random_state=35)</pre></div> </div></div></div></div>"
      ],
      "text/plain": [
       "RandomForestClassifier(max_depth=32, random_state=35)"
      ]
     },
     "execution_count": 184,
     "metadata": {},
     "output_type": "execute_result"
    }
   ],
   "source": [
    "final_model"
   ]
  },
  {
   "cell_type": "code",
   "execution_count": 259,
   "id": "d86c54a4-6b55-49d4-99d2-44fdd421e093",
   "metadata": {},
   "outputs": [],
   "source": [
    "X_f = df"
   ]
  },
  {
   "cell_type": "code",
   "execution_count": 271,
   "id": "cc7458dd-79c1-4a9a-bedc-49a73e9748bc",
   "metadata": {
    "scrolled": true
   },
   "outputs": [],
   "source": [
    "from sklearn.metrics import f1_score\n",
    "\n",
    "_pred = final_model.predict(X_f)"
   ]
  },
  {
   "cell_type": "code",
   "execution_count": 270,
   "id": "5b4b4e77-b979-4867-8bf0-2279e212e047",
   "metadata": {},
   "outputs": [],
   "source": [
    "from sklearn.preprocessing import LabelEncoder\n",
    "\n",
    "# LabelEncoder kullanarak kategorik verileri dönüştürme\n",
    "label_encoder = LabelEncoder()\n",
    "X_f.loc[:, 'FLAG'] = label_encoder.fit_transform(X_f['FLAG'])\n",
    "X_f.loc[:, 'SORU_MEDENI_HAL_CVP'] = label_encoder.fit_transform(X_f['SORU_MEDENI_HAL_CVP'])"
   ]
  },
  {
   "cell_type": "code",
   "execution_count": 272,
   "id": "72197a9e-650a-4d8a-9c03-66f93c552f77",
   "metadata": {},
   "outputs": [
    {
     "name": "stdout",
     "output_type": "stream",
     "text": [
      "Your submission was successfully saved!\n"
     ]
    }
   ],
   "source": [
    "output = pd.DataFrame({'MUSTERI_ID': raw_data.MUSTERI_ID, 'LABEL': _pred})\n",
    "output.to_csv('submission_1.csv', index=False)\n",
    "print(\"Your submission was successfully saved!\")"
   ]
  },
  {
   "cell_type": "code",
   "execution_count": null,
   "id": "ca226db6-14ae-441a-b232-98b4bce5f750",
   "metadata": {},
   "outputs": [],
   "source": []
  }
 ],
 "metadata": {
  "kernelspec": {
   "display_name": "Python 3 (ipykernel)",
   "language": "python",
   "name": "python3"
  },
  "language_info": {
   "codemirror_mode": {
    "name": "ipython",
    "version": 3
   },
   "file_extension": ".py",
   "mimetype": "text/x-python",
   "name": "python",
   "nbconvert_exporter": "python",
   "pygments_lexer": "ipython3",
   "version": "3.11.4"
  }
 },
 "nbformat": 4,
 "nbformat_minor": 5
}
